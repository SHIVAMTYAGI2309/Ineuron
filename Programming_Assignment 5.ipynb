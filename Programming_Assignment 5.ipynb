{
 "cells": [
  {
   "cell_type": "markdown",
   "id": "84b491b3",
   "metadata": {},
   "source": [
    "# Programming assignment_5 Shivam Tyagi(FSDS Batch)"
   ]
  },
  {
   "cell_type": "markdown",
   "id": "69a5ae2e",
   "metadata": {},
   "source": [
    "Q1) Write a Python Program to Find LCM?"
   ]
  },
  {
   "cell_type": "code",
   "execution_count": 5,
   "id": "1a37b19d",
   "metadata": {},
   "outputs": [],
   "source": [
    "def lcm():\n",
    "    \n",
    "    x=int(input('Enter the first number'))\n",
    "    y=int(input('Enter the second number'))\n",
    "    for i in range(min(x,y),max(x,y)):\n",
    "        if (x%i==0 and y%i==0):\n",
    "             return i   \n",
    "    return x*y"
   ]
  },
  {
   "cell_type": "code",
   "execution_count": 7,
   "id": "1dc0f2f7",
   "metadata": {},
   "outputs": [
    {
     "name": "stdout",
     "output_type": "stream",
     "text": [
      "Enter the first number7\n",
      "Enter the second number13\n"
     ]
    },
    {
     "data": {
      "text/plain": [
       "91"
      ]
     },
     "execution_count": 7,
     "metadata": {},
     "output_type": "execute_result"
    }
   ],
   "source": [
    "lcm()"
   ]
  },
  {
   "cell_type": "markdown",
   "id": "bd468e00",
   "metadata": {},
   "source": [
    "Q2)Write a Python Program to Find HCF?"
   ]
  },
  {
   "cell_type": "code",
   "execution_count": 5,
   "id": "6aa0ac5b",
   "metadata": {},
   "outputs": [],
   "source": [
    "def hcf():\n",
    "    \n",
    "    x=int(input('Enter the first number'))\n",
    "    y=int(input('Enter the second number'))\n",
    "    for i in range(1,min(x,y)+1):\n",
    "        if (x%i==0 and y%i==0):\n",
    "             hcf=i   \n",
    "    return hcf"
   ]
  },
  {
   "cell_type": "code",
   "execution_count": 6,
   "id": "8cab92a0",
   "metadata": {
    "scrolled": true
   },
   "outputs": [
    {
     "name": "stdout",
     "output_type": "stream",
     "text": [
      "Enter the first number54\n",
      "Enter the second number24\n"
     ]
    },
    {
     "data": {
      "text/plain": [
       "6"
      ]
     },
     "execution_count": 6,
     "metadata": {},
     "output_type": "execute_result"
    }
   ],
   "source": [
    "hcf()"
   ]
  },
  {
   "cell_type": "markdown",
   "id": "e059f67a",
   "metadata": {},
   "source": [
    "Q3)Write a Python Program to Convert Decimal to Binary, Octal and Hexadecimal?"
   ]
  },
  {
   "cell_type": "code",
   "execution_count": 7,
   "id": "3123b8d4",
   "metadata": {},
   "outputs": [
    {
     "name": "stdout",
     "output_type": "stream",
     "text": [
      "240\n",
      "The decimal value of 240 is:\n",
      "0b11110000 in binary.\n",
      "0o360 in octal.\n",
      "0xf0 in hexadecimal.\n"
     ]
    }
   ],
   "source": [
    "dec = int(input())\n",
    "print(\"The decimal value of\", dec, \"is:\")\n",
    "print(bin(dec), \"in binary.\")\n",
    "print(oct(dec), \"in octal.\")\n",
    "print(hex(dec), \"in hexadecimal.\")"
   ]
  },
  {
   "cell_type": "markdown",
   "id": "c1d09544",
   "metadata": {},
   "source": [
    "Q4) Write a Python Program To Find ASCII value of a character?"
   ]
  },
  {
   "cell_type": "code",
   "execution_count": 10,
   "id": "6a44e701",
   "metadata": {
    "scrolled": true
   },
   "outputs": [
    {
     "name": "stdout",
     "output_type": "stream",
     "text": [
      "A\n"
     ]
    },
    {
     "data": {
      "text/plain": [
       "65"
      ]
     },
     "execution_count": 10,
     "metadata": {},
     "output_type": "execute_result"
    }
   ],
   "source": [
    "x=input()\n",
    "ord(x)"
   ]
  },
  {
   "cell_type": "markdown",
   "id": "0e8b004b",
   "metadata": {},
   "source": [
    "Q5)Write a Python Program to Make a Simple Calculator with 4 basic mathematical operations?"
   ]
  },
  {
   "cell_type": "code",
   "execution_count": 1,
   "id": "ea507601",
   "metadata": {},
   "outputs": [
    {
     "name": "stdout",
     "output_type": "stream",
     "text": [
      "Enter the first number: 23\n",
      "Enter the second number: 46\n",
      "Enter the mathematical operation: /\n",
      "0.5\n"
     ]
    }
   ],
   "source": [
    "x=int(input('Enter the first number: '))\n",
    "y=int(input('Enter the second number: '))\n",
    "z=input('Enter the mathematical operation: ')\n",
    "if z=='+':\n",
    "    print(x+y)\n",
    "elif z=='*':\n",
    "    print(x*y)\n",
    "elif z=='-':\n",
    "    print(x-y)\n",
    "elif z=='/':\n",
    "    print(x/y)\n",
    "else:\n",
    "    print('Invalid operation')"
   ]
  }
 ],
 "metadata": {
  "kernelspec": {
   "display_name": "Python 3",
   "language": "python",
   "name": "python3"
  },
  "language_info": {
   "codemirror_mode": {
    "name": "ipython",
    "version": 3
   },
   "file_extension": ".py",
   "mimetype": "text/x-python",
   "name": "python",
   "nbconvert_exporter": "python",
   "pygments_lexer": "ipython3",
   "version": "3.8.8"
  }
 },
 "nbformat": 4,
 "nbformat_minor": 5
}
