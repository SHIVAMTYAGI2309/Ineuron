{
 "cells": [
  {
   "cell_type": "markdown",
   "id": "665190a3",
   "metadata": {},
   "source": [
    "# Assignment_1(Python basic) Shivam Tyagi(fsds batch)"
   ]
  },
  {
   "cell_type": "markdown",
   "id": "d7c4d08b",
   "metadata": {},
   "source": [
    "Q1) In the below elements which of them are values or an expression? eg:- values can be\n",
    "integer or string and expressions will be mathematical operators.\n",
    "*,\n",
    "'hello',\n",
    "-87.8,\n",
    "-,\n",
    "/,\n",
    "+,\n",
    "6\n",
    "\n",
    "Ans1)\n",
    "*:Expression,\n",
    "'hello':Value,\n",
    "-87.8:Value,\n",
    "-:Expression,\n",
    "/:Expression,\n",
    "+:Expression,\n",
    "6:Value"
   ]
  },
  {
   "cell_type": "markdown",
   "id": "bab975ce",
   "metadata": {},
   "source": [
    "Q2) What is the difference between string and variable?\n",
    "\n",
    "Ans2)The difference between string and variable is that string is immutable and variable is mutable."
   ]
  },
  {
   "cell_type": "markdown",
   "id": "79f04255",
   "metadata": {},
   "source": [
    "Q3) Describe three different data types.\n",
    "\n",
    "Ans3)Three data types in python can be:\n",
    "i)Integer:This data type can store all the integer variables.\n",
    "ii)String:This data type is used to store all the sequence of characters.This data type is immutable.\n",
    "iii)complex:This data type is used to store the complex numbers.It is of the form a+xj where a and x are integers."
   ]
  },
  {
   "cell_type": "markdown",
   "id": "cf09bc52",
   "metadata": {},
   "source": [
    "Q4) What is an expression made up of? What do all expressions do?\n",
    "\n",
    "Ans4) An expression is made of operators and operands.These expressions are used to find out the arithematic logical problems.\n",
    "a+b(addition),\n",
    "a-b(subtraction),\n",
    "a/b(division),\n",
    "a//b(division with output as a floor value)\n"
   ]
  },
  {
   "cell_type": "markdown",
   "id": "a0f88793",
   "metadata": {},
   "source": [
    "Q5) This assignment statements, like spam = 10. What is the difference between an\n",
    "expression and a statement?\n",
    "\n",
    "Ans5)Expression is used to calculate something and to find out the arithematic operation while statement is used to declare a particular aspect of code."
   ]
  },
  {
   "cell_type": "markdown",
   "id": "9fad6b13",
   "metadata": {},
   "source": [
    "Q6)After running the following code, what does the variable bacon contain?\n",
    "bacon = 22\n",
    "bacon + 1\n",
    "\n",
    "Ans6) 22"
   ]
  },
  {
   "cell_type": "markdown",
   "id": "9c0cfe03",
   "metadata": {},
   "source": [
    "Q7)What should the values of the following two terms be?\n",
    "'spam'+'spamspam'\n",
    "'spam'* 3\n",
    "\n",
    "Ans7)Both will be 'spamspamspam'"
   ]
  },
  {
   "cell_type": "markdown",
   "id": "da478275",
   "metadata": {},
   "source": [
    "Q8)Why is eggs a valid variable name while 100 is invalid?\n",
    "\n",
    "Ans8)According to the rules of variables,A variable must start with an alphabet or an underscore but here the variable is starting with an integer.Thus, 100 is invalid."
   ]
  },
  {
   "cell_type": "markdown",
   "id": "d6cdae13",
   "metadata": {},
   "source": [
    "Q9)What three functions can be used to get the integer,floating-point number,or string\n",
    "version of a value?\n",
    "\n",
    "Ans9)int(value),\n",
    "     float(value),\n",
    "     str(value)"
   ]
  },
  {
   "cell_type": "markdown",
   "id": "c0aab009",
   "metadata": {},
   "source": [
    "Q10)Why does this expression cause an error? How can you fix it?\n",
    "'I have eaten'+ 99 +'burritos'.\n",
    "\n",
    "Ans 10)This expression cause an error because when we try to concatenate string and an integer it shows an error because we have to concatenate only same data types.We can fix it by convertin 99 to a string."
   ]
  }
 ],
 "metadata": {
  "kernelspec": {
   "display_name": "Python 3",
   "language": "python",
   "name": "python3"
  },
  "language_info": {
   "codemirror_mode": {
    "name": "ipython",
    "version": 3
   },
   "file_extension": ".py",
   "mimetype": "text/x-python",
   "name": "python",
   "nbconvert_exporter": "python",
   "pygments_lexer": "ipython3",
   "version": "3.8.8"
  }
 },
 "nbformat": 4,
 "nbformat_minor": 5
}
