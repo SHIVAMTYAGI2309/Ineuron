{
 "cells": [
  {
   "cell_type": "markdown",
   "id": "a73423f7",
   "metadata": {},
   "source": [
    "# Python Assignment_2 Shivam Tyagi(FSDS Batch)"
   ]
  },
  {
   "cell_type": "markdown",
   "id": "9cf208f0",
   "metadata": {},
   "source": [
    "Q1)What are the two values of the Boolean data type? How do you write them?"
   ]
  },
  {
   "cell_type": "markdown",
   "id": "2ec72568",
   "metadata": {},
   "source": [
    "The two values of boolean data type are True and false.Whenever we require a boolean output from the programme we get it in the form of True or False."
   ]
  },
  {
   "cell_type": "markdown",
   "id": "9b90aa04",
   "metadata": {},
   "source": [
    "Q2) What are the three different types of Boolean operators?"
   ]
  },
  {
   "cell_type": "markdown",
   "id": "2a986cb5",
   "metadata": {},
   "source": [
    "The 3 different types of boolean operators are:\n",
    "AND,OR,NOT"
   ]
  },
  {
   "cell_type": "markdown",
   "id": "faef3ed3",
   "metadata": {},
   "source": [
    "Q3)Make a list of each Boolean operator's truth tables(i.e. every possible combination of Boolean\n",
    "values for the operator and what it evaluate)"
   ]
  },
  {
   "cell_type": "markdown",
   "id": "165d1606",
   "metadata": {},
   "source": [
    "|boolean 1| |boolean 2| |operator| |Result|\n",
    "|---------| |---------| |--------| |------|\n",
    "|T|         |T|         |AND|      |T|\n",
    "|T|         |F|         |AND|      |F|\n",
    "|F|         |T|         |AND|      |F|\n",
    "|F|         |F|         |AND|      |F|\n",
    "|---------| |---------| |--------| |------|\n",
    "|T|         |T|         |OR|       |T|\n",
    "|T|         |F|         |OR|       |T|\n",
    "|F|         |T|         |OR|       |T|\n",
    "|F|         |F|         |OR|       |F|\n",
    "|---------| |---------| |--------| |------|\n",
    "|T|         |---------| |NOT|      |F|\n",
    "|F|         |---------| |NOT|      |T|\n"
   ]
  },
  {
   "cell_type": "markdown",
   "id": "52298168",
   "metadata": {},
   "source": [
    "Q4)What are the values of the following expressions?\n",
    "\n",
    "(5>4) and (3 == 5):-False\n",
    "\n",
    "not (5>4):-True\n",
    "\n",
    "(5>4) or (3 == 5):-True\n",
    "\n",
    "not ((5>4) or (3 == 5)):-False\n",
    "\n",
    "(True and True) and (True == False):-False\n",
    "\n",
    "(not False) or (not True):-True"
   ]
  },
  {
   "cell_type": "markdown",
   "id": "bb9cde6a",
   "metadata": {},
   "source": [
    "Q5) What are the six comparison operators?"
   ]
  },
  {
   "cell_type": "markdown",
   "id": "69b32f7f",
   "metadata": {},
   "source": [
    "There are six main comparison operators: equal to, not equal to, greater than, greater than or equal to, less than, and less than or equal to."
   ]
  },
  {
   "cell_type": "markdown",
   "id": "83ba342d",
   "metadata": {},
   "source": [
    "Q6)How do you tell the difference between the equal to and assignment operators?Describe a\n",
    "condition and when you would use one."
   ]
  },
  {
   "cell_type": "markdown",
   "id": "5be49551",
   "metadata": {},
   "source": [
    "The equal to is a comparison operator and it tells the statement is true when LHS and RHS of the operator is true otherwise false.On the other hand assignment operator assigns a value to a variable. We use == for equalto operator and we use = for assignment operator."
   ]
  },
  {
   "cell_type": "markdown",
   "id": "c29ec659",
   "metadata": {},
   "source": [
    "Q7)Identify the three blocks in this code:\n",
    "\n",
    "----------------------\n",
    "spam = 0\n",
    "if spam == 10:        (Block 1)\n",
    "print('eggs')\n",
    "\n",
    "-----------------------\n",
    "if spam>5:\n",
    "print('bacon')        (Block 2)   \n",
    "\n",
    "-----------------------\n",
    "else:                 (Block 3)\n",
    "print('ham')\n",
    "print('spam')\n",
    "print('spam')"
   ]
  },
  {
   "cell_type": "markdown",
   "id": "15d097d6",
   "metadata": {},
   "source": [
    "Q8) Write code that prints Hello if 1 is stored in spam, prints Howdy if 2 is stored in spam, and prints Greetings! if anything else is stored in spam."
   ]
  },
  {
   "cell_type": "code",
   "execution_count": 2,
   "id": "598ad57b",
   "metadata": {},
   "outputs": [
    {
     "name": "stdout",
     "output_type": "stream",
     "text": [
      "2\n",
      "Howdy\n"
     ]
    }
   ],
   "source": [
    "spam=int(input())\n",
    "if spam==1:\n",
    "    print('Hello')\n",
    "elif spam==2:\n",
    "    print('Howdy')\n",
    "else:\n",
    "    print('Greetings!')"
   ]
  },
  {
   "cell_type": "markdown",
   "id": "1720ba5a",
   "metadata": {},
   "source": [
    "Q9)If your programme is stuck in an endless loop, what keys you’ll press?"
   ]
  },
  {
   "cell_type": "markdown",
   "id": "239c7e00",
   "metadata": {},
   "source": [
    "Cntrl+c"
   ]
  },
  {
   "cell_type": "markdown",
   "id": "f9b0d4a2",
   "metadata": {},
   "source": [
    "Q10)How can you tell the difference between break and continue?"
   ]
  },
  {
   "cell_type": "markdown",
   "id": "3530a8d4",
   "metadata": {},
   "source": [
    "Break is used to come out of loop when we want break the loop.Continue is when we want to skip the current iteration and move to the next iteration of the loop. "
   ]
  },
  {
   "cell_type": "markdown",
   "id": "e6d296f0",
   "metadata": {},
   "source": [
    "Q11)In a for loop, what is the difference between range(10), range(0, 10), and range(0, 10, 1)?"
   ]
  },
  {
   "cell_type": "markdown",
   "id": "bcc0f9fb",
   "metadata": {},
   "source": [
    "All of them are same."
   ]
  },
  {
   "cell_type": "markdown",
   "id": "bd624937",
   "metadata": {},
   "source": [
    "Q12) Write a short program that prints the numbers 1 to 10 using a for loop. Then write an equivalent\n",
    "program that prints the numbers 1 to 10 using a while loop."
   ]
  },
  {
   "cell_type": "code",
   "execution_count": 2,
   "id": "82be2801",
   "metadata": {
    "scrolled": true
   },
   "outputs": [
    {
     "name": "stdout",
     "output_type": "stream",
     "text": [
      "1\n",
      "2\n",
      "3\n",
      "4\n",
      "5\n",
      "6\n",
      "7\n",
      "8\n",
      "9\n",
      "10\n",
      "1\n",
      "2\n",
      "3\n",
      "4\n",
      "5\n",
      "6\n",
      "7\n",
      "8\n",
      "9\n",
      "10\n"
     ]
    }
   ],
   "source": [
    "for i in range(1,11):\n",
    "    print(i)\n",
    "x=1    \n",
    "while(x<11):\n",
    "    print(x)\n",
    "    x=x+1\n",
    "    "
   ]
  },
  {
   "cell_type": "markdown",
   "id": "368b62b9",
   "metadata": {},
   "source": [
    "Q13) If you had a function named bacon() inside a module named spam, how would you call it after\n",
    "importing spam?"
   ]
  },
  {
   "cell_type": "markdown",
   "id": "2c16abdc",
   "metadata": {},
   "source": [
    "Ans13)spam.bacon()"
   ]
  }
 ],
 "metadata": {
  "kernelspec": {
   "display_name": "Python 3",
   "language": "python",
   "name": "python3"
  },
  "language_info": {
   "codemirror_mode": {
    "name": "ipython",
    "version": 3
   },
   "file_extension": ".py",
   "mimetype": "text/x-python",
   "name": "python",
   "nbconvert_exporter": "python",
   "pygments_lexer": "ipython3",
   "version": "3.8.8"
  }
 },
 "nbformat": 4,
 "nbformat_minor": 5
}
