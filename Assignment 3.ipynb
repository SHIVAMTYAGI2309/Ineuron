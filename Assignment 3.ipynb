{
 "cells": [
  {
   "cell_type": "markdown",
   "id": "d4b3de34",
   "metadata": {},
   "source": [
    "Q1) Why are functions advantageous to have in your programs?"
   ]
  },
  {
   "cell_type": "markdown",
   "id": "461383bc",
   "metadata": {},
   "source": [
    "1. Functions are advantageous to have in the programme because if we need to do a certain part of program again and again we can make use of functions."
   ]
  },
  {
   "cell_type": "markdown",
   "id": "2271a93b",
   "metadata": {},
   "source": [
    "Q2)When does the code in a function run: when it's specified or when it's called?"
   ]
  },
  {
   "cell_type": "markdown",
   "id": "b69faa83",
   "metadata": {},
   "source": [
    "2. Code in a function runs when it is called."
   ]
  },
  {
   "cell_type": "markdown",
   "id": "0c21f3a8",
   "metadata": {},
   "source": [
    "Q3) What statement creates a function?"
   ]
  },
  {
   "cell_type": "markdown",
   "id": "a3172f80",
   "metadata": {},
   "source": [
    "3. ‘def function_name(): ‘ is the syntax to create a function."
   ]
  },
  {
   "cell_type": "markdown",
   "id": "d609e7c6",
   "metadata": {},
   "source": [
    "Q4)What is the difference between a function and a function call?"
   ]
  },
  {
   "cell_type": "markdown",
   "id": "059a822e",
   "metadata": {},
   "source": [
    "If we need to do a certain part of program again and again we can make use of functions on the other hand function calls are lines of code which call the function to execute"
   ]
  },
  {
   "cell_type": "markdown",
   "id": "e01a66e7",
   "metadata": {},
   "source": [
    "Q5)How many global scopes are there in a Python program? How many local scopes?"
   ]
  },
  {
   "cell_type": "markdown",
   "id": "5f8e3f87",
   "metadata": {},
   "source": [
    "There is only 1 global scope in python whereas there can be any number of local scope in python."
   ]
  },
  {
   "cell_type": "markdown",
   "id": "f2cf5937",
   "metadata": {},
   "source": [
    "Q6)What happens to variables in a local scope when the function call returns?"
   ]
  },
  {
   "cell_type": "markdown",
   "id": "25441c04",
   "metadata": {},
   "source": [
    "When the function call returns the variables in the function is destroyed because the scope of a local variable is within a function."
   ]
  },
  {
   "cell_type": "markdown",
   "id": "0e651e7b",
   "metadata": {},
   "source": [
    "Q7) What is the concept of a return value? Is it possible to have a return value in an expression?"
   ]
  },
  {
   "cell_type": "markdown",
   "id": "56ec1f42",
   "metadata": {},
   "source": [
    "A return statement is used to end the execution of the function call and “returns” the result (value of the expression following the return keyword) to the caller. The statements after the return statements are not executed."
   ]
  },
  {
   "cell_type": "markdown",
   "id": "cdebfea9",
   "metadata": {},
   "source": [
    "Q8)If a function does not have a return statement, what is the return value of a call to that function?"
   ]
  },
  {
   "cell_type": "markdown",
   "id": "9051296e",
   "metadata": {},
   "source": [
    "If a function does not have a return statement then the return statement of the function is None.if there is an if/else statement then None evaluates to false. "
   ]
  },
  {
   "cell_type": "markdown",
   "id": "7602c875",
   "metadata": {},
   "source": [
    "Q9)How do you make a function variable refer to the global variable?"
   ]
  },
  {
   "cell_type": "markdown",
   "id": "36f37a3f",
   "metadata": {},
   "source": [
    "We can make a function variable refer to the global variable by writing the keyword 'global' in front of the variable. "
   ]
  },
  {
   "cell_type": "markdown",
   "id": "e6967ad8",
   "metadata": {},
   "source": [
    "Q10)What is the data type of None?"
   ]
  },
  {
   "cell_type": "markdown",
   "id": "900ca8d8",
   "metadata": {},
   "source": [
    "None is a datatype of its own"
   ]
  },
  {
   "cell_type": "markdown",
   "id": "27bc2e69",
   "metadata": {},
   "source": [
    "Q11)What does the sentence import areallyourpetsnamederic do?"
   ]
  },
  {
   "cell_type": "markdown",
   "id": "e01f7fe0",
   "metadata": {},
   "source": [
    "The sentence import areallyourpetsnamederic imports the module areallyourpetsnamederic"
   ]
  },
  {
   "cell_type": "markdown",
   "id": "17e7fbd2",
   "metadata": {},
   "source": [
    "Q12)If you had a bacon() feature in a spam module, what would you call it after importing spam?"
   ]
  },
  {
   "cell_type": "markdown",
   "id": "64286727",
   "metadata": {},
   "source": [
    "spam.module()"
   ]
  },
  {
   "cell_type": "markdown",
   "id": "de40676e",
   "metadata": {},
   "source": [
    "Q13)What can you do to save a programme from crashing if it encounters an error?"
   ]
  },
  {
   "cell_type": "markdown",
   "id": "d4eaf0ba",
   "metadata": {},
   "source": [
    "Try running the program and it will throw an error "
   ]
  },
  {
   "cell_type": "markdown",
   "id": "fe1793ee",
   "metadata": {},
   "source": [
    "Q14) What is the purpose of the try clause? What is the purpose of the except clause?"
   ]
  },
  {
   "cell_type": "markdown",
   "id": "b58064c9",
   "metadata": {},
   "source": [
    "The try-except statement enables applications to gain control of a program when events that normally terminate execution occur.The except:pass construct essentially silences any and all exceptional conditions that come up while the code covered in the try: block is being run."
   ]
  }
 ],
 "metadata": {
  "kernelspec": {
   "display_name": "Python 3",
   "language": "python",
   "name": "python3"
  },
  "language_info": {
   "codemirror_mode": {
    "name": "ipython",
    "version": 3
   },
   "file_extension": ".py",
   "mimetype": "text/x-python",
   "name": "python",
   "nbconvert_exporter": "python",
   "pygments_lexer": "ipython3",
   "version": "3.8.8"
  }
 },
 "nbformat": 4,
 "nbformat_minor": 5
}
