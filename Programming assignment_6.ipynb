{
 "cells": [
  {
   "cell_type": "markdown",
   "id": "ddbdce12",
   "metadata": {},
   "source": [
    "Q1) Write a Python Program to Display Fibonacci Sequence Using Recursion?"
   ]
  },
  {
   "cell_type": "code",
   "execution_count": 2,
   "id": "e220ae7c",
   "metadata": {},
   "outputs": [],
   "source": [
    "def rec(n):\n",
    "    if n<=1:\n",
    "        return n\n",
    "    return(rec(n-1)+rec(n-2))"
   ]
  },
  {
   "cell_type": "code",
   "execution_count": 3,
   "id": "b7bf99a4",
   "metadata": {},
   "outputs": [
    {
     "name": "stdout",
     "output_type": "stream",
     "text": [
      "3\n"
     ]
    }
   ],
   "source": [
    "print(rec(4))"
   ]
  },
  {
   "cell_type": "markdown",
   "id": "c824f10d",
   "metadata": {},
   "source": [
    "Q2)Write a Python Program to Find Factorial of Number Using Recursion?"
   ]
  },
  {
   "cell_type": "code",
   "execution_count": 4,
   "id": "ca2fb951",
   "metadata": {},
   "outputs": [],
   "source": [
    "def fact(n):\n",
    "    if n<=1:\n",
    "        return 1\n",
    "    return n*fact(n-1)"
   ]
  },
  {
   "cell_type": "code",
   "execution_count": 5,
   "id": "d3843ed6",
   "metadata": {},
   "outputs": [
    {
     "name": "stdout",
     "output_type": "stream",
     "text": [
      "5040\n"
     ]
    }
   ],
   "source": [
    "print(fact(7))"
   ]
  },
  {
   "cell_type": "markdown",
   "id": "2df2331e",
   "metadata": {},
   "source": [
    "Q3)Write a Python Program to calculate your Body Mass Index?"
   ]
  },
  {
   "cell_type": "code",
   "execution_count": 17,
   "id": "a8ac60f6",
   "metadata": {
    "scrolled": true
   },
   "outputs": [
    {
     "name": "stdout",
     "output_type": "stream",
     "text": [
      "Enter your height in meters: 1.7\n",
      "Enter your weight in kg: 77.5\n",
      "26.0\n"
     ]
    }
   ],
   "source": [
    "h=float(input('Enter your height in meters: '))\n",
    "w=float(input('Enter your weight in kg: '))\n",
    "x=str(w//(h*h))\n",
    "print(x)"
   ]
  },
  {
   "cell_type": "markdown",
   "id": "429d7dc6",
   "metadata": {},
   "source": [
    "Q4)Write a Python Program to calculate the natural logarithm of any number?"
   ]
  },
  {
   "cell_type": "code",
   "execution_count": 18,
   "id": "f77f46a3",
   "metadata": {},
   "outputs": [
    {
     "name": "stdout",
     "output_type": "stream",
     "text": [
      "4.605170185988092\n"
     ]
    }
   ],
   "source": [
    "import math \n",
    "print(math.log(100))"
   ]
  },
  {
   "cell_type": "markdown",
   "id": "11c57f10",
   "metadata": {},
   "source": [
    "Q5)Write a Python Program for cube sum of first n natural numbers?"
   ]
  },
  {
   "cell_type": "code",
   "execution_count": 21,
   "id": "a8e773cc",
   "metadata": {},
   "outputs": [
    {
     "name": "stdout",
     "output_type": "stream",
     "text": [
      "Enter n: 5\n",
      "[225.0]\n"
     ]
    }
   ],
   "source": [
    "n=int(input('Enter n: '))\n",
    "print([((n**2)*(n + 1)**2)/4])"
   ]
  }
 ],
 "metadata": {
  "kernelspec": {
   "display_name": "Python 3",
   "language": "python",
   "name": "python3"
  },
  "language_info": {
   "codemirror_mode": {
    "name": "ipython",
    "version": 3
   },
   "file_extension": ".py",
   "mimetype": "text/x-python",
   "name": "python",
   "nbconvert_exporter": "python",
   "pygments_lexer": "ipython3",
   "version": "3.8.8"
  }
 },
 "nbformat": 4,
 "nbformat_minor": 5
}
