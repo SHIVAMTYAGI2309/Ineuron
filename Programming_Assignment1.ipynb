{
 "cells": [
  {
   "cell_type": "markdown",
   "id": "7134edc3",
   "metadata": {},
   "source": [
    "# Python Programming_Assignment1 SHIVAM TYAGI(FSDS BATCH)"
   ]
  },
  {
   "cell_type": "code",
   "execution_count": 13,
   "id": "c5aac867",
   "metadata": {},
   "outputs": [
    {
     "name": "stdout",
     "output_type": "stream",
     "text": [
      "Hello Python\n"
     ]
    }
   ],
   "source": [
    "print('Hello Python')   #Answer 1"
   ]
  },
  {
   "cell_type": "code",
   "execution_count": 2,
   "id": "7cd0c50c",
   "metadata": {},
   "outputs": [
    {
     "name": "stdout",
     "output_type": "stream",
     "text": [
      "2\n",
      "3\n",
      "5\n",
      "0.6666666666666666\n"
     ]
    }
   ],
   "source": [
    "x=int(input())         #Answer 2\n",
    "y=int(input())\n",
    "print(x+y)#addition\n",
    "print(x/y)#division"
   ]
  },
  {
   "cell_type": "code",
   "execution_count": 6,
   "id": "5390e6de",
   "metadata": {},
   "outputs": [
    {
     "name": "stdout",
     "output_type": "stream",
     "text": [
      "Enter the lenght of base10\n",
      "Enter the hieght of the triangle20\n",
      "100.0\n"
     ]
    }
   ],
   "source": [
    "x=int(input('Enter the lenght of base'))           #Answer 3\n",
    "y=int(input(\"Enter the hieght of the triangle\"))\n",
    "print(0.5*x*y)"
   ]
  },
  {
   "cell_type": "code",
   "execution_count": 11,
   "id": "0cb5883d",
   "metadata": {},
   "outputs": [
    {
     "name": "stdout",
     "output_type": "stream",
     "text": [
      "9 7\n"
     ]
    }
   ],
   "source": [
    "x=7           #Answer 4\n",
    "y=9\n",
    "z=x\n",
    "x=y\n",
    "y=z\n",
    "print(x,y)"
   ]
  },
  {
   "cell_type": "code",
   "execution_count": 12,
   "id": "6bee6f37",
   "metadata": {},
   "outputs": [
    {
     "data": {
      "text/plain": [
       "0.32780706054497066"
      ]
     },
     "execution_count": 12,
     "metadata": {},
     "output_type": "execute_result"
    }
   ],
   "source": [
    "import numpy as np     #Answer 5\n",
    "np.random.rand()"
   ]
  }
 ],
 "metadata": {
  "kernelspec": {
   "display_name": "Python 3",
   "language": "python",
   "name": "python3"
  },
  "language_info": {
   "codemirror_mode": {
    "name": "ipython",
    "version": 3
   },
   "file_extension": ".py",
   "mimetype": "text/x-python",
   "name": "python",
   "nbconvert_exporter": "python",
   "pygments_lexer": "ipython3",
   "version": "3.8.8"
  }
 },
 "nbformat": 4,
 "nbformat_minor": 5
}
