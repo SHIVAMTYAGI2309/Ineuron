{
 "cells": [
  {
   "cell_type": "markdown",
   "id": "a179f49d",
   "metadata": {},
   "source": [
    "# Programming Assignment_2 Shivam Tyagi (FSDS Batch)"
   ]
  },
  {
   "cell_type": "markdown",
   "id": "cb7c28ba",
   "metadata": {},
   "source": [
    "1. Write a Python program to convert kilometers to miles?"
   ]
  },
  {
   "cell_type": "code",
   "execution_count": 4,
   "id": "f2bb7599",
   "metadata": {},
   "outputs": [
    {
     "name": "stdout",
     "output_type": "stream",
     "text": [
      "Enter the distance in km 100\n",
      "The distance in miles is 62.13999999999999\n"
     ]
    }
   ],
   "source": [
    "km=int(input(\"Enter the distance in km \"))  #Answer1\n",
    "miles=str(km*0.6214)\n",
    "print('The distance in miles is '+miles)"
   ]
  },
  {
   "cell_type": "markdown",
   "id": "fe9bdaee",
   "metadata": {},
   "source": [
    "2. Write a Python program to convert Celsius to Fahrenheit?"
   ]
  },
  {
   "cell_type": "code",
   "execution_count": 5,
   "id": "45a9412a",
   "metadata": {},
   "outputs": [
    {
     "name": "stdout",
     "output_type": "stream",
     "text": [
      "Enter temp in celcius 45\n",
      "The temperature in fahrenheit is 113.0\n"
     ]
    }
   ],
   "source": [
    "celcius=int(input(\"Enter temp in celcius \"))  #Answer2\n",
    "far=str(1.8*celcius+32)\n",
    "print('The temperature in fahrenheit is '+far)"
   ]
  },
  {
   "cell_type": "markdown",
   "id": "80b778cf",
   "metadata": {},
   "source": [
    "3. Write a Python program to display calendar?"
   ]
  },
  {
   "cell_type": "code",
   "execution_count": 8,
   "id": "92575cc5",
   "metadata": {},
   "outputs": [
    {
     "name": "stdout",
     "output_type": "stream",
     "text": [
      "     March 2022\n",
      "Mo Tu We Th Fr Sa Su\n",
      "    1  2  3  4  5  6\n",
      " 7  8  9 10 11 12 13\n",
      "14 15 16 17 18 19 20\n",
      "21 22 23 24 25 26 27\n",
      "28 29 30 31\n",
      "\n"
     ]
    }
   ],
   "source": [
    "import calendar as cd               \n",
    "yy=2022                                 #Answer3\n",
    "mm=3\n",
    "print(cd.month(yy,mm))"
   ]
  },
  {
   "cell_type": "markdown",
   "id": "7ba1fe92",
   "metadata": {},
   "source": [
    "4. Write a Python program to solve quadratic equation?"
   ]
  },
  {
   "cell_type": "code",
   "execution_count": 3,
   "id": "3d8cfd75",
   "metadata": {},
   "outputs": [
    {
     "name": "stdout",
     "output_type": "stream",
     "text": [
      "Enter the coefficient of square term4\n",
      "Enter the coefficient of linear term2\n",
      "Enter the constant term1\n",
      "-1.0\n",
      "-3.0\n"
     ]
    }
   ],
   "source": [
    "a=int(input('Enter the coefficient of square term'))\n",
    "b=int(input('Enter the coefficient of linear term'))\n",
    "c=int(input('Enter the constant term'))\n",
    "d=a**2-(4*b*c)\n",
    "print(-b+d/(2*a))\n",
    "print(-b-d/(2*a))"
   ]
  },
  {
   "cell_type": "markdown",
   "id": "8eda32d3",
   "metadata": {},
   "source": [
    "5. Write a Python program to swap two variables without temp variable?"
   ]
  },
  {
   "cell_type": "code",
   "execution_count": 1,
   "id": "d7334eee",
   "metadata": {},
   "outputs": [
    {
     "name": "stdout",
     "output_type": "stream",
     "text": [
      "Enter the first variable34\n",
      "Enter the second variable99\n",
      "99\n",
      "34\n"
     ]
    }
   ],
   "source": [
    "x=input('Enter the first variable')\n",
    "y=input('Enter the second variable')\n",
    "x,y=y,x\n",
    "print(x)\n",
    "print(y)"
   ]
  }
 ],
 "metadata": {
  "kernelspec": {
   "display_name": "Python 3",
   "language": "python",
   "name": "python3"
  },
  "language_info": {
   "codemirror_mode": {
    "name": "ipython",
    "version": 3
   },
   "file_extension": ".py",
   "mimetype": "text/x-python",
   "name": "python",
   "nbconvert_exporter": "python",
   "pygments_lexer": "ipython3",
   "version": "3.8.8"
  }
 },
 "nbformat": 4,
 "nbformat_minor": 5
}
