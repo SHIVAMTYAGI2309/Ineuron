{
 "cells": [
  {
   "cell_type": "markdown",
   "id": "611df84b",
   "metadata": {},
   "source": [
    "# Programming_Assignment 4 SHIVAM TYAGI(FSDS BATCH)"
   ]
  },
  {
   "cell_type": "markdown",
   "id": "d6f2b7be",
   "metadata": {},
   "source": [
    "Q1) Write a Python Program to Find the Factorial of a Number?"
   ]
  },
  {
   "cell_type": "code",
   "execution_count": 1,
   "id": "da934e78",
   "metadata": {},
   "outputs": [],
   "source": [
    "def fact(n):\n",
    "    if n==1:\n",
    "        return 1\n",
    "    x=fact(n-1)\n",
    "    return x*n"
   ]
  },
  {
   "cell_type": "code",
   "execution_count": 2,
   "id": "650258b5",
   "metadata": {
    "scrolled": true
   },
   "outputs": [
    {
     "data": {
      "text/plain": [
       "120"
      ]
     },
     "execution_count": 2,
     "metadata": {},
     "output_type": "execute_result"
    }
   ],
   "source": [
    "fact(5)"
   ]
  },
  {
   "cell_type": "markdown",
   "id": "343083cb",
   "metadata": {},
   "source": [
    "Q2)Write a Python Program to Display the multiplication Table?"
   ]
  },
  {
   "cell_type": "code",
   "execution_count": 9,
   "id": "0c360da5",
   "metadata": {},
   "outputs": [],
   "source": [
    "def table(n):\n",
    "    for i in range(1,11):\n",
    "        print(str(n)+' x '+str(i)+' ='+str(n*i))"
   ]
  },
  {
   "cell_type": "code",
   "execution_count": 10,
   "id": "69166446",
   "metadata": {
    "scrolled": true
   },
   "outputs": [
    {
     "name": "stdout",
     "output_type": "stream",
     "text": [
      "13 x 1 =13\n",
      "13 x 2 =26\n",
      "13 x 3 =39\n",
      "13 x 4 =52\n",
      "13 x 5 =65\n",
      "13 x 6 =78\n",
      "13 x 7 =91\n",
      "13 x 8 =104\n",
      "13 x 9 =117\n",
      "13 x 10 =130\n"
     ]
    }
   ],
   "source": [
    "table(13)"
   ]
  },
  {
   "cell_type": "markdown",
   "id": "68a2d27c",
   "metadata": {},
   "source": [
    "Q3) Write a Python Program to Print the Fibonacci sequence?"
   ]
  },
  {
   "cell_type": "code",
   "execution_count": 12,
   "id": "3d8f2239",
   "metadata": {},
   "outputs": [],
   "source": [
    "def fib(n):\n",
    "    if n==0 or n==1:\n",
    "        return n\n",
    "    return fib(n-1)+fib(n-2)"
   ]
  },
  {
   "cell_type": "code",
   "execution_count": 13,
   "id": "eca24549",
   "metadata": {
    "scrolled": true
   },
   "outputs": [
    {
     "data": {
      "text/plain": [
       "3"
      ]
     },
     "execution_count": 13,
     "metadata": {},
     "output_type": "execute_result"
    }
   ],
   "source": [
    "fib(4)"
   ]
  },
  {
   "cell_type": "markdown",
   "id": "ea8b3e81",
   "metadata": {},
   "source": [
    "Q4) Write a Python Program to Check Armstrong Number?"
   ]
  },
  {
   "cell_type": "code",
   "execution_count": 29,
   "id": "e4433b9c",
   "metadata": {},
   "outputs": [],
   "source": [
    "def arm(n):\n",
    "    if n/10==0:\n",
    "        return 0\n",
    "    y=(n%10)**3\n",
    "    return y+arm(n//10)"
   ]
  },
  {
   "cell_type": "code",
   "execution_count": 31,
   "id": "fc44e454",
   "metadata": {},
   "outputs": [
    {
     "name": "stdout",
     "output_type": "stream",
     "text": [
      "153\n",
      "Armstrong Number\n"
     ]
    }
   ],
   "source": [
    "z=int(input())\n",
    "fa=arm(z)\n",
    "if fa==z:\n",
    "    print('Armstrong Number')\n",
    "else:\n",
    "    print('Not a Armstrong Number')"
   ]
  },
  {
   "cell_type": "markdown",
   "id": "e1a2d51c",
   "metadata": {},
   "source": [
    "Q5) Write a Python Program to Find Armstrong Number in an Interval?"
   ]
  },
  {
   "cell_type": "code",
   "execution_count": 35,
   "id": "9237962b",
   "metadata": {},
   "outputs": [
    {
     "name": "stdout",
     "output_type": "stream",
     "text": [
      "100\n",
      "160\n",
      "The Armstrong number between 100 and 160 are 153\n"
     ]
    }
   ],
   "source": [
    "si=int(input())\n",
    "ei=int(input())\n",
    "for i in range(si,ei+1):\n",
    "    fa=arm(z)\n",
    "if fa==z:\n",
    "    print('The Armstrong number between '+str(si)+' and '+str(ei)+' are '+str(fa))"
   ]
  },
  {
   "cell_type": "markdown",
   "id": "ef2d1fda",
   "metadata": {},
   "source": [
    "Q6)Write a Python Program to Find the Sum of Natural Numbers?"
   ]
  },
  {
   "cell_type": "code",
   "execution_count": 37,
   "id": "828be358",
   "metadata": {},
   "outputs": [
    {
     "name": "stdout",
     "output_type": "stream",
     "text": [
      "7\n",
      "28\n"
     ]
    }
   ],
   "source": [
    "x=int(input())\n",
    "print(x*(x+1)//2)"
   ]
  }
 ],
 "metadata": {
  "kernelspec": {
   "display_name": "Python 3",
   "language": "python",
   "name": "python3"
  },
  "language_info": {
   "codemirror_mode": {
    "name": "ipython",
    "version": 3
   },
   "file_extension": ".py",
   "mimetype": "text/x-python",
   "name": "python",
   "nbconvert_exporter": "python",
   "pygments_lexer": "ipython3",
   "version": "3.8.8"
  }
 },
 "nbformat": 4,
 "nbformat_minor": 5
}
